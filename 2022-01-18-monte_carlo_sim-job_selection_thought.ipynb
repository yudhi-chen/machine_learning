{
 "cells": [
  {
   "cell_type": "markdown",
   "metadata": {},
   "source": [
    "As we enter the workforce, it is high likely we come across in a situation where we have few options after job hunting. We think thoroughly to select which job suit us in our particular situation at this point of time. Out of many aspects to consider, we narrow down into five (5) aspects: Work, Salary, Career Advancement, Job Security, and Work Life Balance.<br>\n",
    "\n",
    "In this simulation, we have three (3) job to consider, ie. A, B, and C with pre-defined weightage of each aspect. We put score to each aspect for each particular job based on our subjective thought and we let the code tells us which job are good for us to select based upon 10,000 iterations (ie. people survey) with Monte Carlo method."
   ]
  },
  {
   "cell_type": "code",
   "execution_count": 1,
   "metadata": {},
   "outputs": [],
   "source": [
    "import random\n",
    "import seaborn as sns\n",
    "import matplotlib.pyplot as plt"
   ]
  },
  {
   "cell_type": "code",
   "execution_count": 2,
   "metadata": {},
   "outputs": [],
   "source": [
    "iterations=10000\n",
    "\n",
    "# Define variable all taken into account\n",
    "variables=['work','salary','career_advancement','job_security','work_life_balance']"
   ]
  },
  {
   "cell_type": "code",
   "execution_count": 3,
   "metadata": {},
   "outputs": [],
   "source": [
    "def Monte_Carlo(grade):\n",
    "    final_results=[]\n",
    "    # Assign weight for each variable. total sum of these weight is 1, ie. 100%\n",
    "    weight=[0.15, 0.40, 0.15, 0.10, 0.20]\n",
    "    for n in range(iterations):\n",
    "        results=[]\n",
    "        for i in range(len(variables)):\n",
    "            \n",
    "            # Random value generated based upon range provided for this variable\n",
    "            value = weight[i] * (random.uniform(grade[i][0], grade[i][1]))\n",
    "            results.append(value)\n",
    "            \n",
    "        final_results.append(sum(results))\n",
    "    return final_results"
   ]
  },
  {
   "cell_type": "code",
   "execution_count": 4,
   "metadata": {},
   "outputs": [],
   "source": [
    "a = Monte_Carlo([[4,9],[8,10],[5,9],[8,9],[3,7]])\n",
    "b = Monte_Carlo([[9,10],[4,4],[7,9],[8,10],[8,9]])\n",
    "c = Monte_Carlo([[4,7],[6,9],[8,9],[8,9],[2,6]])"
   ]
  },
  {
   "cell_type": "markdown",
   "metadata": {},
   "source": [
    "| Aspect             | Weight |         | Score Range |       |\n",
    "| -:                 | :-:    | :-:     | :-:         |:-:    |\n",
    "|                    |        |  A      | B           | C     |\n",
    "| Work               | 15%    | 4-9     | 8-10        | 4-7   |\n",
    "| Salary             | 40%    | 8-10    | 4-4         | 6-9   |\n",
    "| Career Advancement | 15%    | 5-9     | 7-9         | 8-9   |\n",
    "| Job Security       | 10%    | 8-9     | 8-10        | 8-9   |\n",
    "| Life Balance       | 20%    | 3-7     | 8-9         | 2-6   |"
   ]
  },
  {
   "cell_type": "code",
   "execution_count": 5,
   "metadata": {},
   "outputs": [
    {
     "data": {
      "image/png": "[encoded data removed]",
      "text/plain": [
       "<Figure size 720x432 with 1 Axes>"
      ]
     },
     "metadata": {
      "needs_background": "light"
     },
     "output_type": "display_data"
    }
   ],
   "source": [
    "#Plot the results\n",
    "fig = plt.figure(figsize=(10,6))\n",
    "sns.histplot(a, color = 'red')\n",
    "sns.histplot(b, color = 'green')\n",
    "sns.histplot(c, color = 'blue')\n",
    "fig.legend(labels=['Job A','Job B','Job C'])\n",
    "plt.title('Monte-Carlo Distributions of Job Selection Thought')\n",
    "plt.xlabel('Survey Score')\n",
    "#plt.savefig('job_selection_thought.png')\n",
    "plt.show()"
   ]
  },
  {
   "attachments": {},
   "cell_type": "markdown",
   "metadata": {},
   "source": [
    "<div class=\"alert alert-block alert-success\">\n",
    "<font color='red'>Conclusion:</font><br/>\n",
    "Based on 10,000 iterations (people survey), we saw that <font color='magenta'>Job A score better than B and C</font>. However, Job A got more spread, meaning people have various opinion when they position themselves like us to take this job. On the other hand, Job B score lower than A with less spread, meaning people generaly would have same thought, ie. less uncertainty. Hence, it is wise to select <font color='magenta'>job B over A</font>.</div>"
   ]
  },
  {
   "cell_type": "markdown",
   "metadata": {},
   "source": [
    "<div class=\"alert alert-block alert-info\">\n",
    "<font color='blue'>Reference:</font><br/>\n",
    "https://towardsdatascience.com/how-to-use-monte-carlo-simulation-to-help-decision-making-a0a164bc8619</div>"
   ]
  }
 ],
 "metadata": {
  "kernelspec": {
   "display_name": "Python 3",
   "language": "python",
   "name": "python3"
  },
  "language_info": {
   "codemirror_mode": {
    "name": "ipython",
    "version": 3
   },
   "file_extension": ".py",
   "mimetype": "text/x-python",
   "name": "python",
   "nbconvert_exporter": "python",
   "pygments_lexer": "ipython3",
   "version": "3.7.4"
  }
 },
 "nbformat": 4,
 "nbformat_minor": 4
}
